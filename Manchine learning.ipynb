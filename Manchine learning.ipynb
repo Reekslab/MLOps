{
 "cells": [
  {
   "attachments": {},
   "cell_type": "markdown",
   "metadata": {},
   "source": [
    "ML"
   ]
  },
  {
   "cell_type": "code",
   "execution_count": 2,
   "metadata": {},
   "outputs": [
    {
     "name": "stderr",
     "output_type": "stream",
     "text": [
      "c:\\Users\\Rhica\\OneDrive\\Documentos\\DTS\\p1\\venv\\lib\\site-packages\\tqdm\\auto.py:22: TqdmWarning: IProgress not found. Please update jupyter and ipywidgets. See https://ipywidgets.readthedocs.io/en/stable/user_install.html\n",
      "  from .autonotebook import tqdm as notebook_tqdm\n"
     ]
    }
   ],
   "source": [
    "import pandas as pd\n",
    "from ydata_profiling import ProfileReport\n",
    "from surprise import Dataset , Reader"
   ]
  },
  {
   "cell_type": "code",
   "execution_count": 2,
   "metadata": {},
   "outputs": [],
   "source": [
    "df = pd.read_csv(r\"ranks.csv\")"
   ]
  },
  {
   "cell_type": "code",
   "execution_count": 3,
   "metadata": {},
   "outputs": [],
   "source": [
    "# eliminamos la columna timestamp, ya que no es relevante en el modelo de recomendación\n",
    "df = df.drop(\"timestamp\" , axis=1)"
   ]
  },
  {
   "cell_type": "code",
   "execution_count": 4,
   "metadata": {},
   "outputs": [],
   "source": [
    "# el modelo de ML funciona con strings, en todo caso empleo esta conversion de letras a números tratando de optimizar\n",
    "import re\n",
    "def convertir_letras_a_numeros(cadena):\n",
    "    \n",
    "    letras = re.findall('[a-zA-Z]', cadena)\n",
    "    \n",
    "    # convertir las letras en números utilizando la posición en el alfabeto\n",
    "    numeros = [str(ord(letra.lower()) - 96) for letra in letras]\n",
    "    \n",
    "    # reemplazar las letras por los números en la cadena original\n",
    "    for letra, numero in zip(letras, numeros):\n",
    "        cadena = cadena.replace(letra, numero)\n",
    "    \n",
    "    return cadena"
   ]
  },
  {
   "cell_type": "code",
   "execution_count": 5,
   "metadata": {},
   "outputs": [],
   "source": [
    "df['movieId'] = df['movieId'].apply(convertir_letras_a_numeros)"
   ]
  },
  {
   "cell_type": "code",
   "execution_count": 6,
   "metadata": {},
   "outputs": [],
   "source": [
    "df[\"movieId\"] = df[\"movieId\"].astype(int)"
   ]
  },
  {
   "cell_type": "code",
   "execution_count": 7,
   "metadata": {},
   "outputs": [],
   "source": [
    "# organizar el df\n",
    "df = df.reindex([\"userId\" , \"movieId\", \"rating\"] , axis=1)"
   ]
  },
  {
   "cell_type": "code",
   "execution_count": 8,
   "metadata": {},
   "outputs": [
    {
     "name": "stdout",
     "output_type": "stream",
     "text": [
      "<class 'pandas.core.frame.DataFrame'>\n",
      "RangeIndex: 11024289 entries, 0 to 11024288\n",
      "Data columns (total 3 columns):\n",
      " #   Column   Dtype  \n",
      "---  ------   -----  \n",
      " 0   userId   int64  \n",
      " 1   rating   float64\n",
      " 2   movieId  int32  \n",
      "dtypes: float64(1), int32(1), int64(1)\n",
      "memory usage: 210.3 MB\n"
     ]
    }
   ],
   "source": [
    "df.info()"
   ]
  },
  {
   "cell_type": "code",
   "execution_count": 8,
   "metadata": {},
   "outputs": [],
   "source": [
    "# reader indicando el valor minimo y maximo de la puntuación\n",
    "reader = Reader(rating_scale=(df[\"rating\"].min(),df[\"rating\"].max()))"
   ]
  },
  {
   "cell_type": "code",
   "execution_count": 8,
   "metadata": {},
   "outputs": [],
   "source": [
    "# Dataset es el formato para que surprise lea el df. Pasamos el df con el reader\n",
    "dataset = Dataset.load_from_df(df[[\"userId\",\"movieId\",\"rating\"]],reader)"
   ]
  },
  {
   "cell_type": "code",
   "execution_count": 13,
   "metadata": {},
   "outputs": [
    {
     "data": {
      "text/plain": [
       "<surprise.dataset.DatasetAutoFolds at 0x20baa046560>"
      ]
     },
     "execution_count": 13,
     "metadata": {},
     "output_type": "execute_result"
    }
   ],
   "source": [
    "dataset"
   ]
  },
  {
   "cell_type": "code",
   "execution_count": 9,
   "metadata": {},
   "outputs": [],
   "source": [
    "from surprise import SVD"
   ]
  },
  {
   "cell_type": "code",
   "execution_count": null,
   "metadata": {},
   "outputs": [],
   "source": [
    "# los mejores parametros son: n_epochs = 15 , lr_all = 0.005 , reg_all = 0.4\n",
    "# esto de hacer multiples pruebas\n",
    "from surprise.model_selection import GridSearchCV\n",
    "param_grid = {\"n_epochs\":[10 , 15], \"lr_all\":[0.002 , 0.005], \"reg_all\": [0.4 , 0.6]}\n",
    "gs = GridSearchCV(SVD , param_grid , measures=[\"rmse\" , \"fcp\"] , cv=5 , refit=True)\n",
    "gs.fit(dataset)\n",
    "\n",
    "print(gs.best_score[\"rmse\"])\n",
    "print(gs.best_score[\"fcp\"])\n",
    "print(gs.best_params[\"rmse\"])\n",
    "\n",
    "# En todo este codigo lo que buscamos es hacer un cross validation para encontrar los mejores parametros"
   ]
  },
  {
   "cell_type": "code",
   "execution_count": null,
   "metadata": {},
   "outputs": [],
   "source": [
    "# Despues de correr este bloque, el modelo quedará listo\n",
    "modelo = gs.best_estimator[\"rmse\"]\n",
    "modelo.fit(dataset.build_full_trainset())"
   ]
  },
  {
   "attachments": {},
   "cell_type": "markdown",
   "metadata": {},
   "source": [
    "De aqui para abajo son pruebas con datasets mas pequeños, subconjuntos del original"
   ]
  },
  {
   "cell_type": "code",
   "execution_count": 86,
   "metadata": {},
   "outputs": [],
   "source": [
    "dfsub = df.loc[0:100000 ,\"userId\" : \"rating\"]"
   ]
  },
  {
   "cell_type": "code",
   "execution_count": 88,
   "metadata": {},
   "outputs": [],
   "source": [
    "datasetsub = Dataset.load_from_df(dfsub , reader)"
   ]
  },
  {
   "cell_type": "code",
   "execution_count": 89,
   "metadata": {},
   "outputs": [
    {
     "data": {
      "text/plain": [
       "(100001, 3)"
      ]
     },
     "execution_count": 89,
     "metadata": {},
     "output_type": "execute_result"
    }
   ],
   "source": [
    "dfsub.shape"
   ]
  },
  {
   "cell_type": "code",
   "execution_count": 96,
   "metadata": {},
   "outputs": [
    {
     "name": "stdout",
     "output_type": "stream",
     "text": [
      "Evaluating RMSE, MAE of algorithm SVD on 5 split(s).\n",
      "\n",
      "                  Fold 1  Fold 2  Fold 3  Fold 4  Fold 5  Mean    Std     \n",
      "RMSE (testset)    0.9659  0.9608  0.9661  0.9574  0.9578  0.9616  0.0038  \n",
      "MAE (testset)     0.7535  0.7453  0.7509  0.7474  0.7474  0.7489  0.0029  \n",
      "Fit time          1.14    1.12    1.14    1.12    1.13    1.13    0.01    \n",
      "Test time         0.10    0.10    0.36    0.10    0.10    0.15    0.11    \n"
     ]
    },
    {
     "data": {
      "text/plain": [
       "{'test_rmse': array([0.96591763, 0.96076454, 0.96606243, 0.95740206, 0.95784531]),\n",
       " 'test_mae': array([0.75348939, 0.74527194, 0.75094945, 0.74737894, 0.74735664]),\n",
       " 'fit_time': (1.1437618732452393,\n",
       "  1.1212449073791504,\n",
       "  1.1358680725097656,\n",
       "  1.116645097732544,\n",
       "  1.1317555904388428),\n",
       " 'test_time': (0.09899544715881348,\n",
       "  0.0975487232208252,\n",
       "  0.362884521484375,\n",
       "  0.09833192825317383,\n",
       "  0.09702038764953613)}"
      ]
     },
     "execution_count": 96,
     "metadata": {},
     "output_type": "execute_result"
    }
   ],
   "source": [
    "from surprise.model_selection import cross_validate\n",
    "\n",
    "cross_validate(SVD() , datasetsub , measures=[\"RMSE\" , \"MAE\"],cv=5,verbose=True)"
   ]
  },
  {
   "cell_type": "code",
   "execution_count": null,
   "metadata": {},
   "outputs": [
    {
     "data": {
      "text/html": [
       "<div>\n",
       "<style scoped>\n",
       "    .dataframe tbody tr th:only-of-type {\n",
       "        vertical-align: middle;\n",
       "    }\n",
       "\n",
       "    .dataframe tbody tr th {\n",
       "        vertical-align: top;\n",
       "    }\n",
       "\n",
       "    .dataframe thead th {\n",
       "        text-align: right;\n",
       "    }\n",
       "</style>\n",
       "<table border=\"1\" class=\"dataframe\">\n",
       "  <thead>\n",
       "    <tr style=\"text-align: right;\">\n",
       "      <th></th>\n",
       "      <th>userId</th>\n",
       "      <th>movieId</th>\n",
       "      <th>rating</th>\n",
       "    </tr>\n",
       "  </thead>\n",
       "  <tbody>\n",
       "    <tr>\n",
       "      <th>0</th>\n",
       "      <td>1</td>\n",
       "      <td>119680</td>\n",
       "      <td>1.0</td>\n",
       "    </tr>\n",
       "    <tr>\n",
       "      <th>1</th>\n",
       "      <td>1</td>\n",
       "      <td>14192186</td>\n",
       "      <td>4.5</td>\n",
       "    </tr>\n",
       "    <tr>\n",
       "      <th>2</th>\n",
       "      <td>1</td>\n",
       "      <td>8192381</td>\n",
       "      <td>5.0</td>\n",
       "    </tr>\n",
       "    <tr>\n",
       "      <th>3</th>\n",
       "      <td>1</td>\n",
       "      <td>14193663</td>\n",
       "      <td>5.0</td>\n",
       "    </tr>\n",
       "    <tr>\n",
       "      <th>4</th>\n",
       "      <td>1</td>\n",
       "      <td>1199500</td>\n",
       "      <td>5.0</td>\n",
       "    </tr>\n",
       "    <tr>\n",
       "      <th>...</th>\n",
       "      <td>...</td>\n",
       "      <td>...</td>\n",
       "      <td>...</td>\n",
       "    </tr>\n",
       "    <tr>\n",
       "      <th>9996</th>\n",
       "      <td>120</td>\n",
       "      <td>14198204</td>\n",
       "      <td>4.0</td>\n",
       "    </tr>\n",
       "    <tr>\n",
       "      <th>9997</th>\n",
       "      <td>120</td>\n",
       "      <td>8191897</td>\n",
       "      <td>4.5</td>\n",
       "    </tr>\n",
       "    <tr>\n",
       "      <th>9998</th>\n",
       "      <td>120</td>\n",
       "      <td>1419122</td>\n",
       "      <td>3.5</td>\n",
       "    </tr>\n",
       "    <tr>\n",
       "      <th>9999</th>\n",
       "      <td>120</td>\n",
       "      <td>14193221</td>\n",
       "      <td>3.0</td>\n",
       "    </tr>\n",
       "    <tr>\n",
       "      <th>10000</th>\n",
       "      <td>120</td>\n",
       "      <td>1419828</td>\n",
       "      <td>3.5</td>\n",
       "    </tr>\n",
       "  </tbody>\n",
       "</table>\n",
       "<p>10001 rows × 3 columns</p>\n",
       "</div>"
      ],
      "text/plain": [
       "       userId   movieId  rating\n",
       "0           1    119680     1.0\n",
       "1           1  14192186     4.5\n",
       "2           1   8192381     5.0\n",
       "3           1  14193663     5.0\n",
       "4           1   1199500     5.0\n",
       "...       ...       ...     ...\n",
       "9996      120  14198204     4.0\n",
       "9997      120   8191897     4.5\n",
       "9998      120   1419122     3.5\n",
       "9999      120  14193221     3.0\n",
       "10000     120   1419828     3.5\n",
       "\n",
       "[10001 rows x 3 columns]"
      ]
     },
     "execution_count": 20,
     "metadata": {},
     "output_type": "execute_result"
    }
   ],
   "source": [
    "dfsub"
   ]
  },
  {
   "cell_type": "code",
   "execution_count": 103,
   "metadata": {},
   "outputs": [
    {
     "name": "stdout",
     "output_type": "stream",
     "text": [
      "0.9518687703914489\n",
      "0.5014030188724812\n",
      "{'n_epochs': 15, 'lr_all': 0.005, 'reg_all': 0.4}\n"
     ]
    }
   ],
   "source": [
    "from surprise.model_selection import GridSearchCV\n",
    "param_grid = {\"n_epochs\":[15], \"lr_all\":[0.005], \"reg_all\": [0.4 , 0.6]}\n",
    "gs = GridSearchCV(SVD , param_grid , measures=[\"rmse\" , \"fcp\"] , cv=5 , refit=True)\n",
    "gs.fit(datasetsub)\n",
    "\n",
    "print(gs.best_score[\"rmse\"])\n",
    "print(gs.best_score[\"fcp\"])\n",
    "print(gs.best_params[\"rmse\"])"
   ]
  },
  {
   "cell_type": "code",
   "execution_count": 104,
   "metadata": {},
   "outputs": [
    {
     "data": {
      "text/plain": [
       "<surprise.prediction_algorithms.matrix_factorization.SVD at 0x2a7a9bfed70>"
      ]
     },
     "execution_count": 104,
     "metadata": {},
     "output_type": "execute_result"
    }
   ],
   "source": [
    "model = gs.best_estimator[\"rmse\"]\n",
    "model.fit(datasetsub.build_full_trainset())"
   ]
  },
  {
   "cell_type": "code",
   "execution_count": 106,
   "metadata": {},
   "outputs": [
    {
     "name": "stdout",
     "output_type": "stream",
     "text": [
      "user: 120        item: 1419828    r_ui = 3.50   est = 3.54   {'was_impossible': False}\n"
     ]
    },
    {
     "data": {
      "text/plain": [
       "Prediction(uid=120, iid=1419828, r_ui=3.5, est=3.540752950051133, details={'was_impossible': False})"
      ]
     },
     "execution_count": 106,
     "metadata": {},
     "output_type": "execute_result"
    }
   ],
   "source": [
    "u = 120\n",
    "mid=1419828\t\t\n",
    "modelo.predict(u , mid ,r_ui=3.5 ,  verbose=True)"
   ]
  }
 ],
 "metadata": {
  "kernelspec": {
   "display_name": "Python 3.10.6 ('venv': venv)",
   "language": "python",
   "name": "python3"
  },
  "language_info": {
   "codemirror_mode": {
    "name": "ipython",
    "version": 3
   },
   "file_extension": ".py",
   "mimetype": "text/x-python",
   "name": "python",
   "nbconvert_exporter": "python",
   "pygments_lexer": "ipython3",
   "version": "3.10.6"
  },
  "orig_nbformat": 4,
  "vscode": {
   "interpreter": {
    "hash": "84cea20af7c44832dedb9deb117b3e272fb2660c852c2ac3f6f4d0d1a995f31c"
   }
  }
 },
 "nbformat": 4,
 "nbformat_minor": 2
}
