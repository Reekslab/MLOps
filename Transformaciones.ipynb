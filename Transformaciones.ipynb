{
 "cells": [
  {
   "cell_type": "code",
   "execution_count": 1,
   "metadata": {},
   "outputs": [],
   "source": [
    "import pandas as pd \n",
    "\n"
   ]
  },
  {
   "cell_type": "code",
   "execution_count": 2,
   "metadata": {},
   "outputs": [],
   "source": [
    "dfa = pd.read_csv(r\"titulos\\amazon_prime_titles.csv\")\n",
    "#generamos nueva columna id con la inicial a\n",
    "dfa.insert(0, \"id\" , \"a\"+dfa[\"show_id\"] )\n"
   ]
  },
  {
   "attachments": {},
   "cell_type": "markdown",
   "metadata": {},
   "source": [
    "repetimos esto con los otros archivos csv"
   ]
  },
  {
   "cell_type": "code",
   "execution_count": 3,
   "metadata": {},
   "outputs": [],
   "source": [
    "dfd = pd.read_csv(r\"titulos\\disney_plus_titles.csv\")\n",
    "dfd.insert(0, \"id\" , \"d\"+dfa[\"show_id\"] )\n",
    "dfh = pd.read_csv(r\"titulos\\hulu_titles.csv\")\n",
    "dfh.insert(0, \"id\" , \"h\"+dfa[\"show_id\"] )\n",
    "dfn = pd.read_csv(r\"titulos\\netflix_titles.csv\")\n",
    "dfn.insert(0, \"id\" , \"n\"+dfa[\"show_id\"] )"
   ]
  },
  {
   "cell_type": "code",
   "execution_count": 4,
   "metadata": {},
   "outputs": [],
   "source": [
    "#concatenamos todo en un solo dataframe\n",
    "df = pd.concat([dfa,dfd,dfh,dfn])\n"
   ]
  },
  {
   "cell_type": "code",
   "execution_count": 5,
   "metadata": {},
   "outputs": [
    {
     "data": {
      "text/html": [
       "<div>\n",
       "<style scoped>\n",
       "    .dataframe tbody tr th:only-of-type {\n",
       "        vertical-align: middle;\n",
       "    }\n",
       "\n",
       "    .dataframe tbody tr th {\n",
       "        vertical-align: top;\n",
       "    }\n",
       "\n",
       "    .dataframe thead th {\n",
       "        text-align: right;\n",
       "    }\n",
       "</style>\n",
       "<table border=\"1\" class=\"dataframe\">\n",
       "  <thead>\n",
       "    <tr style=\"text-align: right;\">\n",
       "      <th></th>\n",
       "      <th>id</th>\n",
       "      <th>show_id</th>\n",
       "      <th>type</th>\n",
       "      <th>title</th>\n",
       "      <th>director</th>\n",
       "      <th>cast</th>\n",
       "      <th>country</th>\n",
       "      <th>date_added</th>\n",
       "      <th>release_year</th>\n",
       "      <th>rating</th>\n",
       "      <th>duration</th>\n",
       "      <th>listed_in</th>\n",
       "      <th>description</th>\n",
       "    </tr>\n",
       "  </thead>\n",
       "  <tbody>\n",
       "    <tr>\n",
       "      <th>0</th>\n",
       "      <td>as1</td>\n",
       "      <td>s1</td>\n",
       "      <td>Movie</td>\n",
       "      <td>The Grand Seduction</td>\n",
       "      <td>Don McKellar</td>\n",
       "      <td>Brendan Gleeson, Taylor Kitsch, Gordon Pinsent</td>\n",
       "      <td>Canada</td>\n",
       "      <td>March 30, 2021</td>\n",
       "      <td>2014</td>\n",
       "      <td>G</td>\n",
       "      <td>113 min</td>\n",
       "      <td>Comedy, Drama</td>\n",
       "      <td>A small fishing village must procure a local d...</td>\n",
       "    </tr>\n",
       "    <tr>\n",
       "      <th>1</th>\n",
       "      <td>as2</td>\n",
       "      <td>s2</td>\n",
       "      <td>Movie</td>\n",
       "      <td>Take Care Good Night</td>\n",
       "      <td>Girish Joshi</td>\n",
       "      <td>Mahesh Manjrekar, Abhay Mahajan, Sachin Khedekar</td>\n",
       "      <td>India</td>\n",
       "      <td>March 30, 2021</td>\n",
       "      <td>2018</td>\n",
       "      <td>13+</td>\n",
       "      <td>110 min</td>\n",
       "      <td>Drama, International</td>\n",
       "      <td>A Metro Family decides to fight a Cyber Crimin...</td>\n",
       "    </tr>\n",
       "    <tr>\n",
       "      <th>2</th>\n",
       "      <td>as3</td>\n",
       "      <td>s3</td>\n",
       "      <td>Movie</td>\n",
       "      <td>Secrets of Deception</td>\n",
       "      <td>Josh Webber</td>\n",
       "      <td>Tom Sizemore, Lorenzo Lamas, Robert LaSardo, R...</td>\n",
       "      <td>United States</td>\n",
       "      <td>March 30, 2021</td>\n",
       "      <td>2017</td>\n",
       "      <td>G</td>\n",
       "      <td>74 min</td>\n",
       "      <td>Action, Drama, Suspense</td>\n",
       "      <td>After a man discovers his wife is cheating on ...</td>\n",
       "    </tr>\n",
       "    <tr>\n",
       "      <th>3</th>\n",
       "      <td>as4</td>\n",
       "      <td>s4</td>\n",
       "      <td>Movie</td>\n",
       "      <td>Pink: Staying True</td>\n",
       "      <td>Sonia Anderson</td>\n",
       "      <td>Interviews with: Pink, Adele, Beyoncé, Britney...</td>\n",
       "      <td>United States</td>\n",
       "      <td>March 30, 2021</td>\n",
       "      <td>2014</td>\n",
       "      <td>G</td>\n",
       "      <td>69 min</td>\n",
       "      <td>Documentary</td>\n",
       "      <td>Pink breaks the mold once again, bringing her ...</td>\n",
       "    </tr>\n",
       "    <tr>\n",
       "      <th>4</th>\n",
       "      <td>as5</td>\n",
       "      <td>s5</td>\n",
       "      <td>Movie</td>\n",
       "      <td>Monster Maker</td>\n",
       "      <td>Giles Foster</td>\n",
       "      <td>Harry Dean Stanton, Kieran O'Brien, George Cos...</td>\n",
       "      <td>United Kingdom</td>\n",
       "      <td>March 30, 2021</td>\n",
       "      <td>1989</td>\n",
       "      <td>G</td>\n",
       "      <td>45 min</td>\n",
       "      <td>Drama, Fantasy</td>\n",
       "      <td>Teenage Matt Banting wants to work with a famo...</td>\n",
       "    </tr>\n",
       "    <tr>\n",
       "      <th>...</th>\n",
       "      <td>...</td>\n",
       "      <td>...</td>\n",
       "      <td>...</td>\n",
       "      <td>...</td>\n",
       "      <td>...</td>\n",
       "      <td>...</td>\n",
       "      <td>...</td>\n",
       "      <td>...</td>\n",
       "      <td>...</td>\n",
       "      <td>...</td>\n",
       "      <td>...</td>\n",
       "      <td>...</td>\n",
       "      <td>...</td>\n",
       "    </tr>\n",
       "    <tr>\n",
       "      <th>8802</th>\n",
       "      <td>ns8803</td>\n",
       "      <td>s8803</td>\n",
       "      <td>Movie</td>\n",
       "      <td>Zodiac</td>\n",
       "      <td>David Fincher</td>\n",
       "      <td>Mark Ruffalo, Jake Gyllenhaal, Robert Downey J...</td>\n",
       "      <td>United States</td>\n",
       "      <td>November 20, 2019</td>\n",
       "      <td>2007</td>\n",
       "      <td>R</td>\n",
       "      <td>158 min</td>\n",
       "      <td>Cult Movies, Dramas, Thrillers</td>\n",
       "      <td>A political cartoonist, a crime reporter and a...</td>\n",
       "    </tr>\n",
       "    <tr>\n",
       "      <th>8803</th>\n",
       "      <td>ns8804</td>\n",
       "      <td>s8804</td>\n",
       "      <td>TV Show</td>\n",
       "      <td>Zombie Dumb</td>\n",
       "      <td>NaN</td>\n",
       "      <td>NaN</td>\n",
       "      <td>NaN</td>\n",
       "      <td>July 1, 2019</td>\n",
       "      <td>2018</td>\n",
       "      <td>TV-Y7</td>\n",
       "      <td>2 Seasons</td>\n",
       "      <td>Kids' TV, Korean TV Shows, TV Comedies</td>\n",
       "      <td>While living alone in a spooky town, a young g...</td>\n",
       "    </tr>\n",
       "    <tr>\n",
       "      <th>8804</th>\n",
       "      <td>ns8805</td>\n",
       "      <td>s8805</td>\n",
       "      <td>Movie</td>\n",
       "      <td>Zombieland</td>\n",
       "      <td>Ruben Fleischer</td>\n",
       "      <td>Jesse Eisenberg, Woody Harrelson, Emma Stone, ...</td>\n",
       "      <td>United States</td>\n",
       "      <td>November 1, 2019</td>\n",
       "      <td>2009</td>\n",
       "      <td>R</td>\n",
       "      <td>88 min</td>\n",
       "      <td>Comedies, Horror Movies</td>\n",
       "      <td>Looking to survive in a world taken over by zo...</td>\n",
       "    </tr>\n",
       "    <tr>\n",
       "      <th>8805</th>\n",
       "      <td>ns8806</td>\n",
       "      <td>s8806</td>\n",
       "      <td>Movie</td>\n",
       "      <td>Zoom</td>\n",
       "      <td>Peter Hewitt</td>\n",
       "      <td>Tim Allen, Courteney Cox, Chevy Chase, Kate Ma...</td>\n",
       "      <td>United States</td>\n",
       "      <td>January 11, 2020</td>\n",
       "      <td>2006</td>\n",
       "      <td>PG</td>\n",
       "      <td>88 min</td>\n",
       "      <td>Children &amp; Family Movies, Comedies</td>\n",
       "      <td>Dragged from civilian life, a former superhero...</td>\n",
       "    </tr>\n",
       "    <tr>\n",
       "      <th>8806</th>\n",
       "      <td>ns8807</td>\n",
       "      <td>s8807</td>\n",
       "      <td>Movie</td>\n",
       "      <td>Zubaan</td>\n",
       "      <td>Mozez Singh</td>\n",
       "      <td>Vicky Kaushal, Sarah-Jane Dias, Raaghav Chanan...</td>\n",
       "      <td>India</td>\n",
       "      <td>March 2, 2019</td>\n",
       "      <td>2015</td>\n",
       "      <td>TV-14</td>\n",
       "      <td>111 min</td>\n",
       "      <td>Dramas, International Movies, Music &amp; Musicals</td>\n",
       "      <td>A scrappy but poor boy worms his way into a ty...</td>\n",
       "    </tr>\n",
       "  </tbody>\n",
       "</table>\n",
       "<p>22998 rows × 13 columns</p>\n",
       "</div>"
      ],
      "text/plain": [
       "          id show_id     type                 title         director  \\\n",
       "0        as1      s1    Movie   The Grand Seduction     Don McKellar   \n",
       "1        as2      s2    Movie  Take Care Good Night     Girish Joshi   \n",
       "2        as3      s3    Movie  Secrets of Deception      Josh Webber   \n",
       "3        as4      s4    Movie    Pink: Staying True   Sonia Anderson   \n",
       "4        as5      s5    Movie         Monster Maker     Giles Foster   \n",
       "...      ...     ...      ...                   ...              ...   \n",
       "8802  ns8803   s8803    Movie                Zodiac    David Fincher   \n",
       "8803  ns8804   s8804  TV Show           Zombie Dumb              NaN   \n",
       "8804  ns8805   s8805    Movie            Zombieland  Ruben Fleischer   \n",
       "8805  ns8806   s8806    Movie                  Zoom     Peter Hewitt   \n",
       "8806  ns8807   s8807    Movie                Zubaan      Mozez Singh   \n",
       "\n",
       "                                                   cast         country  \\\n",
       "0        Brendan Gleeson, Taylor Kitsch, Gordon Pinsent          Canada   \n",
       "1      Mahesh Manjrekar, Abhay Mahajan, Sachin Khedekar           India   \n",
       "2     Tom Sizemore, Lorenzo Lamas, Robert LaSardo, R...   United States   \n",
       "3     Interviews with: Pink, Adele, Beyoncé, Britney...   United States   \n",
       "4     Harry Dean Stanton, Kieran O'Brien, George Cos...  United Kingdom   \n",
       "...                                                 ...             ...   \n",
       "8802  Mark Ruffalo, Jake Gyllenhaal, Robert Downey J...   United States   \n",
       "8803                                                NaN             NaN   \n",
       "8804  Jesse Eisenberg, Woody Harrelson, Emma Stone, ...   United States   \n",
       "8805  Tim Allen, Courteney Cox, Chevy Chase, Kate Ma...   United States   \n",
       "8806  Vicky Kaushal, Sarah-Jane Dias, Raaghav Chanan...           India   \n",
       "\n",
       "             date_added  release_year rating   duration  \\\n",
       "0        March 30, 2021          2014      G    113 min   \n",
       "1        March 30, 2021          2018    13+    110 min   \n",
       "2        March 30, 2021          2017      G     74 min   \n",
       "3        March 30, 2021          2014      G     69 min   \n",
       "4        March 30, 2021          1989      G     45 min   \n",
       "...                 ...           ...    ...        ...   \n",
       "8802  November 20, 2019          2007      R    158 min   \n",
       "8803       July 1, 2019          2018  TV-Y7  2 Seasons   \n",
       "8804   November 1, 2019          2009      R     88 min   \n",
       "8805   January 11, 2020          2006     PG     88 min   \n",
       "8806      March 2, 2019          2015  TV-14    111 min   \n",
       "\n",
       "                                           listed_in  \\\n",
       "0                                      Comedy, Drama   \n",
       "1                               Drama, International   \n",
       "2                            Action, Drama, Suspense   \n",
       "3                                        Documentary   \n",
       "4                                     Drama, Fantasy   \n",
       "...                                              ...   \n",
       "8802                  Cult Movies, Dramas, Thrillers   \n",
       "8803          Kids' TV, Korean TV Shows, TV Comedies   \n",
       "8804                         Comedies, Horror Movies   \n",
       "8805              Children & Family Movies, Comedies   \n",
       "8806  Dramas, International Movies, Music & Musicals   \n",
       "\n",
       "                                            description  \n",
       "0     A small fishing village must procure a local d...  \n",
       "1     A Metro Family decides to fight a Cyber Crimin...  \n",
       "2     After a man discovers his wife is cheating on ...  \n",
       "3     Pink breaks the mold once again, bringing her ...  \n",
       "4     Teenage Matt Banting wants to work with a famo...  \n",
       "...                                                 ...  \n",
       "8802  A political cartoonist, a crime reporter and a...  \n",
       "8803  While living alone in a spooky town, a young g...  \n",
       "8804  Looking to survive in a world taken over by zo...  \n",
       "8805  Dragged from civilian life, a former superhero...  \n",
       "8806  A scrappy but poor boy worms his way into a ty...  \n",
       "\n",
       "[22998 rows x 13 columns]"
      ]
     },
     "execution_count": 5,
     "metadata": {},
     "output_type": "execute_result"
    }
   ],
   "source": [
    "#Reemplazamos los valores nulos en la columna rating\n",
    "df[\"rating\"] = df[\"rating\"].fillna(\"G\")\n",
    "df"
   ]
  },
  {
   "cell_type": "code",
   "execution_count": 6,
   "metadata": {},
   "outputs": [],
   "source": [
    "#quitamos los espacios para poder correr el codigo de abajo\n",
    "df[\"date_added\"] = df[\"date_added\"].str.strip()\n"
   ]
  },
  {
   "cell_type": "code",
   "execution_count": 7,
   "metadata": {},
   "outputs": [],
   "source": [
    "#conversion a formato fecha\n",
    "df[\"date_added\"] = pd.to_datetime(df[\"date_added\"], format=\"%B %d, %Y\")\n"
   ]
  },
  {
   "cell_type": "code",
   "execution_count": 8,
   "metadata": {},
   "outputs": [],
   "source": [
    "#pasamos todas las letras a minisculas\n",
    "df = df.applymap(lambda s: s.lower() if type(s)==str else s)\n"
   ]
  },
  {
   "cell_type": "code",
   "execution_count": 9,
   "metadata": {},
   "outputs": [],
   "source": [
    "#separamos la columna duration por medio del espacio(\" \") y creamos dos nuevas columnas\n",
    "df[[\"duration_int\" , \"duration_type\"]] = df[\"duration\"].str.split(\" \", n=1,expand=True)\n",
    "#cambiamos la posicion de las nuevas columnas\n",
    "duration_int = df.pop(\"duration_int\")\n",
    "duration_type = df.pop(\"duration_type\")\n",
    "df.insert(11,\"duration_int\", duration_int)\n",
    "df.insert(12,\"duration_type\", duration_type)"
   ]
  },
  {
   "attachments": {},
   "cell_type": "markdown",
   "metadata": {},
   "source": [
    "dataframe de los ratings"
   ]
  },
  {
   "cell_type": "code",
   "execution_count": 2,
   "metadata": {},
   "outputs": [],
   "source": [
    "#Lista con todos los archivos\n",
    "archivos = [r\"ratings\\1.csv\" , r\"ratings\\2.csv\" , r\"ratings\\3.csv\" , r\"ratings\\4.csv\" , r\"ratings\\5.csv\" , r\"ratings\\6.csv\",r\"ratings\\7.csv\" , r\"ratings\\8.csv\"]"
   ]
  },
  {
   "cell_type": "code",
   "execution_count": 3,
   "metadata": {},
   "outputs": [],
   "source": [
    "#leemos y guardamos los df creados\n",
    "dataframes = []\n",
    "for archivo in archivos:\n",
    "    df1= pd.read_csv(archivo)\n",
    "    dataframes.append(df1)\n"
   ]
  },
  {
   "cell_type": "code",
   "execution_count": 4,
   "metadata": {},
   "outputs": [],
   "source": [
    "#concatenamos todos los dataframes para tener solo uno\n",
    "dfr = pd.concat(dataframes, axis=0 , ignore_index=True)\n"
   ]
  },
  {
   "cell_type": "code",
   "execution_count": 15,
   "metadata": {},
   "outputs": [
    {
     "data": {
      "text/html": [
       "<div>\n",
       "<style scoped>\n",
       "    .dataframe tbody tr th:only-of-type {\n",
       "        vertical-align: middle;\n",
       "    }\n",
       "\n",
       "    .dataframe tbody tr th {\n",
       "        vertical-align: top;\n",
       "    }\n",
       "\n",
       "    .dataframe thead th {\n",
       "        text-align: right;\n",
       "    }\n",
       "</style>\n",
       "<table border=\"1\" class=\"dataframe\">\n",
       "  <thead>\n",
       "    <tr style=\"text-align: right;\">\n",
       "      <th></th>\n",
       "      <th>userId</th>\n",
       "      <th>rating</th>\n",
       "      <th>timestamp</th>\n",
       "      <th>movieId</th>\n",
       "    </tr>\n",
       "  </thead>\n",
       "  <tbody>\n",
       "    <tr>\n",
       "      <th>0</th>\n",
       "      <td>1</td>\n",
       "      <td>1.0</td>\n",
       "      <td>1425941529</td>\n",
       "      <td>as680</td>\n",
       "    </tr>\n",
       "    <tr>\n",
       "      <th>1</th>\n",
       "      <td>1</td>\n",
       "      <td>4.5</td>\n",
       "      <td>1425942435</td>\n",
       "      <td>ns2186</td>\n",
       "    </tr>\n",
       "    <tr>\n",
       "      <th>2</th>\n",
       "      <td>1</td>\n",
       "      <td>5.0</td>\n",
       "      <td>1425941523</td>\n",
       "      <td>hs2381</td>\n",
       "    </tr>\n",
       "    <tr>\n",
       "      <th>3</th>\n",
       "      <td>1</td>\n",
       "      <td>5.0</td>\n",
       "      <td>1425941546</td>\n",
       "      <td>ns3663</td>\n",
       "    </tr>\n",
       "    <tr>\n",
       "      <th>4</th>\n",
       "      <td>1</td>\n",
       "      <td>5.0</td>\n",
       "      <td>1425941556</td>\n",
       "      <td>as9500</td>\n",
       "    </tr>\n",
       "    <tr>\n",
       "      <th>...</th>\n",
       "      <td>...</td>\n",
       "      <td>...</td>\n",
       "      <td>...</td>\n",
       "      <td>...</td>\n",
       "    </tr>\n",
       "    <tr>\n",
       "      <th>11024284</th>\n",
       "      <td>124380</td>\n",
       "      <td>4.5</td>\n",
       "      <td>1196786159</td>\n",
       "      <td>ns5272</td>\n",
       "    </tr>\n",
       "    <tr>\n",
       "      <th>11024285</th>\n",
       "      <td>124380</td>\n",
       "      <td>2.5</td>\n",
       "      <td>1196786030</td>\n",
       "      <td>ns5492</td>\n",
       "    </tr>\n",
       "    <tr>\n",
       "      <th>11024286</th>\n",
       "      <td>124380</td>\n",
       "      <td>3.5</td>\n",
       "      <td>1196785679</td>\n",
       "      <td>hs305</td>\n",
       "    </tr>\n",
       "    <tr>\n",
       "      <th>11024287</th>\n",
       "      <td>124380</td>\n",
       "      <td>4.5</td>\n",
       "      <td>1196787089</td>\n",
       "      <td>ns7881</td>\n",
       "    </tr>\n",
       "    <tr>\n",
       "      <th>11024288</th>\n",
       "      <td>124380</td>\n",
       "      <td>1.5</td>\n",
       "      <td>1196785847</td>\n",
       "      <td>as883</td>\n",
       "    </tr>\n",
       "  </tbody>\n",
       "</table>\n",
       "<p>11024289 rows × 4 columns</p>\n",
       "</div>"
      ],
      "text/plain": [
       "          userId  rating   timestamp movieId\n",
       "0              1     1.0  1425941529   as680\n",
       "1              1     4.5  1425942435  ns2186\n",
       "2              1     5.0  1425941523  hs2381\n",
       "3              1     5.0  1425941546  ns3663\n",
       "4              1     5.0  1425941556  as9500\n",
       "...          ...     ...         ...     ...\n",
       "11024284  124380     4.5  1196786159  ns5272\n",
       "11024285  124380     2.5  1196786030  ns5492\n",
       "11024286  124380     3.5  1196785679   hs305\n",
       "11024287  124380     4.5  1196787089  ns7881\n",
       "11024288  124380     1.5  1196785847   as883\n",
       "\n",
       "[11024289 rows x 4 columns]"
      ]
     },
     "execution_count": 15,
     "metadata": {},
     "output_type": "execute_result"
    }
   ],
   "source": [
    "dfr"
   ]
  },
  {
   "cell_type": "code",
   "execution_count": 9,
   "metadata": {},
   "outputs": [],
   "source": [
    "dfr.to_csv(\"ranks.csv\" , index=False)"
   ]
  },
  {
   "cell_type": "code",
   "execution_count": 5,
   "metadata": {},
   "outputs": [],
   "source": [
    "#sacamos el promedio del rating agrupando por id de pelicula/serie\n",
    "promedio_rating = dfr.groupby([ \"movieId\"])[\"rating\"].mean()\n"
   ]
  },
  {
   "cell_type": "code",
   "execution_count": 6,
   "metadata": {},
   "outputs": [
    {
     "data": {
      "text/plain": [
       "movieId\n",
       "as1       3.47\n",
       "as10      3.44\n",
       "as100     3.61\n",
       "as1000    3.56\n",
       "as1001    3.59\n",
       "          ... \n",
       "ns995     3.52\n",
       "ns996     3.63\n",
       "ns997     3.53\n",
       "ns998     3.58\n",
       "ns999     3.49\n",
       "Name: rating, Length: 22998, dtype: float64"
      ]
     },
     "execution_count": 6,
     "metadata": {},
     "output_type": "execute_result"
    }
   ],
   "source": [
    "#redondeo a 2 decimales\n",
    "promedio_rating = round(promedio_rating,ndigits=2)\n",
    "promedio_rating"
   ]
  },
  {
   "cell_type": "code",
   "execution_count": 7,
   "metadata": {},
   "outputs": [],
   "source": [
    "#creamos un nuevo dataframe de los promedios con la id\n",
    "df_nuevo = pd.DataFrame(promedio_rating).reset_index().rename(columns={\"movieId\": \"id\" , \"rating\": \"score\"})"
   ]
  },
  {
   "cell_type": "code",
   "execution_count": 17,
   "metadata": {},
   "outputs": [
    {
     "data": {
      "text/html": [
       "<div>\n",
       "<style scoped>\n",
       "    .dataframe tbody tr th:only-of-type {\n",
       "        vertical-align: middle;\n",
       "    }\n",
       "\n",
       "    .dataframe tbody tr th {\n",
       "        vertical-align: top;\n",
       "    }\n",
       "\n",
       "    .dataframe thead th {\n",
       "        text-align: right;\n",
       "    }\n",
       "</style>\n",
       "<table border=\"1\" class=\"dataframe\">\n",
       "  <thead>\n",
       "    <tr style=\"text-align: right;\">\n",
       "      <th></th>\n",
       "      <th>id</th>\n",
       "      <th>score</th>\n",
       "    </tr>\n",
       "  </thead>\n",
       "  <tbody>\n",
       "    <tr>\n",
       "      <th>0</th>\n",
       "      <td>as1</td>\n",
       "      <td>3.47</td>\n",
       "    </tr>\n",
       "    <tr>\n",
       "      <th>1</th>\n",
       "      <td>as10</td>\n",
       "      <td>3.44</td>\n",
       "    </tr>\n",
       "    <tr>\n",
       "      <th>2</th>\n",
       "      <td>as100</td>\n",
       "      <td>3.61</td>\n",
       "    </tr>\n",
       "    <tr>\n",
       "      <th>3</th>\n",
       "      <td>as1000</td>\n",
       "      <td>3.56</td>\n",
       "    </tr>\n",
       "    <tr>\n",
       "      <th>4</th>\n",
       "      <td>as1001</td>\n",
       "      <td>3.59</td>\n",
       "    </tr>\n",
       "    <tr>\n",
       "      <th>...</th>\n",
       "      <td>...</td>\n",
       "      <td>...</td>\n",
       "    </tr>\n",
       "    <tr>\n",
       "      <th>22993</th>\n",
       "      <td>ns995</td>\n",
       "      <td>3.52</td>\n",
       "    </tr>\n",
       "    <tr>\n",
       "      <th>22994</th>\n",
       "      <td>ns996</td>\n",
       "      <td>3.63</td>\n",
       "    </tr>\n",
       "    <tr>\n",
       "      <th>22995</th>\n",
       "      <td>ns997</td>\n",
       "      <td>3.53</td>\n",
       "    </tr>\n",
       "    <tr>\n",
       "      <th>22996</th>\n",
       "      <td>ns998</td>\n",
       "      <td>3.58</td>\n",
       "    </tr>\n",
       "    <tr>\n",
       "      <th>22997</th>\n",
       "      <td>ns999</td>\n",
       "      <td>3.49</td>\n",
       "    </tr>\n",
       "  </tbody>\n",
       "</table>\n",
       "<p>22998 rows × 2 columns</p>\n",
       "</div>"
      ],
      "text/plain": [
       "           id  score\n",
       "0         as1   3.47\n",
       "1        as10   3.44\n",
       "2       as100   3.61\n",
       "3      as1000   3.56\n",
       "4      as1001   3.59\n",
       "...       ...    ...\n",
       "22993   ns995   3.52\n",
       "22994   ns996   3.63\n",
       "22995   ns997   3.53\n",
       "22996   ns998   3.58\n",
       "22997   ns999   3.49\n",
       "\n",
       "[22998 rows x 2 columns]"
      ]
     },
     "execution_count": 17,
     "metadata": {},
     "output_type": "execute_result"
    }
   ],
   "source": [
    "df_nuevo"
   ]
  },
  {
   "cell_type": "code",
   "execution_count": null,
   "metadata": {},
   "outputs": [],
   "source": [
    "#unimos el dataframe original con el nuevo creado arriba por medio de la columna id\n",
    "df = pd.merge(df , df_nuevo , on=[\"id\"])"
   ]
  },
  {
   "cell_type": "code",
   "execution_count": 20,
   "metadata": {},
   "outputs": [],
   "source": [
    "#extraemos la columna puntaje para posicionarla en el puesto 6\n",
    "colpun = df.pop(\"score\")\n",
    "df.insert(6,\"score\",colpun)"
   ]
  },
  {
   "cell_type": "code",
   "execution_count": 21,
   "metadata": {},
   "outputs": [],
   "source": [
    "df = df.drop(\"show_id\", axis=1)\n",
    "df = df.drop(\"duration\", axis=1)\n"
   ]
  },
  {
   "cell_type": "code",
   "execution_count": 17,
   "metadata": {},
   "outputs": [],
   "source": [
    "def agregar_columna_por_letra(dataframe, columna_origen, columna_destino, diccionario):\n",
    "    \"\"\"\n",
    "    Agrega una nueva columna al dataframe basándose en la primera letra de la columna_origen.\n",
    "    La nueva columna se agrega al dataframe con el nombre especificado en columna_destino.\n",
    "    Los valores de la nueva columna se toman del diccionario, utilizando la letra como clave.\n",
    "    \"\"\"\n",
    "    letras = dataframe[columna_origen].str[0]  # obtiene la primera letra de cada fila\n",
    "    valores = letras.map(diccionario)          # busca el valor correspondiente en el diccionario\n",
    "    dataframe[columna_destino] = valores       # agrega la nueva columna al dataframe\n",
    "\n",
    "distribuidores ={\"a\" : \"amazon\" , \"d\" : \"disney\" , \"h\" : \"hulu\" , \"n\" : \"netflix\"}\n",
    "\n",
    "agregar_columna_por_letra(df, \"id\" , \"platform\" , distribuidores)\n",
    "\n"
   ]
  },
  {
   "cell_type": "code",
   "execution_count": 4,
   "metadata": {},
   "outputs": [
    {
     "name": "stdout",
     "output_type": "stream",
     "text": [
      "<class 'pandas.core.frame.DataFrame'>\n",
      "RangeIndex: 22998 entries, 0 to 22997\n",
      "Data columns (total 15 columns):\n",
      " #   Column         Non-Null Count  Dtype  \n",
      "---  ------         --------------  -----  \n",
      " 0   id             22998 non-null  object \n",
      " 1   type           22998 non-null  object \n",
      " 2   title          22998 non-null  object \n",
      " 3   director       14739 non-null  object \n",
      " 4   cast           17677 non-null  object \n",
      " 5   score          22998 non-null  float64\n",
      " 6   country        11499 non-null  object \n",
      " 7   date_added     13444 non-null  object \n",
      " 8   release_year   22998 non-null  int64  \n",
      " 9   rating         22998 non-null  object \n",
      " 10  duration_int   22516 non-null  float64\n",
      " 11  duration_type  22516 non-null  object \n",
      " 12  listed_in      22998 non-null  object \n",
      " 13  description    22994 non-null  object \n",
      " 14  platform       22998 non-null  object \n",
      "dtypes: float64(2), int64(1), object(12)\n",
      "memory usage: 2.6+ MB\n"
     ]
    }
   ],
   "source": [
    "df.info()"
   ]
  },
  {
   "cell_type": "code",
   "execution_count": 20,
   "metadata": {},
   "outputs": [],
   "source": [
    "df.to_csv(\"df.csv\" , index = False)"
   ]
  },
  {
   "cell_type": "code",
   "execution_count": 3,
   "metadata": {},
   "outputs": [],
   "source": [
    "df = pd.read_csv(r\"df.csv\" )"
   ]
  },
  {
   "cell_type": "code",
   "execution_count": 6,
   "metadata": {},
   "outputs": [
    {
     "data": {
      "text/plain": [
       "'cloud atlas'"
      ]
     },
     "execution_count": 6,
     "metadata": {},
     "output_type": "execute_result"
    }
   ],
   "source": [
    "def get_max_duration(year:int ,platform:str ,duration_type:str):\n",
    "    df = pd.read_csv(r\"df.csv\")\n",
    "    pelicula = df[(df[\"release_year\"] == year) & (df[\"platform\"] == platform) & (df[\"duration_type\"] == duration_type)]\n",
    "    duracionmax = pelicula[\"duration_int\"].idxmax()\n",
    "    title = pelicula.loc[duracionmax , \"title\"]\n",
    "    return title\n",
    "    \n",
    "get_max_duration(2012,\"netflix\",\"min\")\n"
   ]
  },
  {
   "cell_type": "code",
   "execution_count": 21,
   "metadata": {},
   "outputs": [
    {
     "data": {
      "text/plain": [
       "34"
      ]
     },
     "execution_count": 21,
     "metadata": {},
     "output_type": "execute_result"
    }
   ],
   "source": [
    "def get_score_count(platform:str , scored:float , year:int):\n",
    "    df = pd.read_csv(r\"df.csv\")\n",
    "    peliculas = df[(df[\"platform\"] == platform) & (df[\"score\"] >= scored) & (df[\"release_year\"] == year) & (df[\"type\"]==\"movie\")]\n",
    "    numdepeliculas = len(peliculas)\n",
    "    return numdepeliculas\n",
    "get_score_count(\"disney\" , 1.45 , 2014)"
   ]
  },
  {
   "cell_type": "code",
   "execution_count": 7,
   "metadata": {},
   "outputs": [
    {
     "data": {
      "text/plain": [
       "1484"
      ]
     },
     "execution_count": 7,
     "metadata": {},
     "output_type": "execute_result"
    }
   ],
   "source": [
    "def get_count_platform(platform:str):\n",
    "    df = pd.read_csv(r\"df.csv\")\n",
    "    peliculas = df[(df[\"platform\"] == platform) & (df[\"type\"] == \"movie\" )]\n",
    "    contador = len(peliculas)\n",
    "    return contador\n",
    "get_count_platform(\"hulu\")\n",
    "    "
   ]
  },
  {
   "cell_type": "code",
   "execution_count": 8,
   "metadata": {},
   "outputs": [
    {
     "data": {
      "text/plain": [
       "'lara dutta'"
      ]
     },
     "execution_count": 8,
     "metadata": {},
     "output_type": "execute_result"
    }
   ],
   "source": [
    "def get_actor(platform:str , year:int):\n",
    "    df = pd.read_csv(r\"df.csv\")\n",
    "    actor = df[(df[\"platform\"] == platform) & (df[\"release_year\"] == year) & (df[\"cast\"])]\n",
    "    serie_actores = actor[\"cast\"].str.split(\",\\s*\", expand=True).stack()\n",
    "    frecuencia_actores = serie_actores.value_counts()\n",
    "    actor_mas_comun = frecuencia_actores.idxmax()\n",
    "    return actor_mas_comun\n",
    "get_actor(\"netflix\" , 2005)"
   ]
  },
  {
   "cell_type": "code",
   "execution_count": 27,
   "metadata": {},
   "outputs": [
    {
     "data": {
      "text/plain": [
       "{'Pais:': 'france', 'anio:': 2020, 'pelicula:': 8}"
      ]
     },
     "execution_count": 27,
     "metadata": {},
     "output_type": "execute_result"
    }
   ],
   "source": [
    "def prod_per_country(tipo:str , country:str , year:int):\n",
    "    df = pd.read_csv(r\"df.csv\")\n",
    "    product = df[(df[\"type\"] == tipo) & (df[\"country\"] == country) & (df[\"release_year\"] == year)]\n",
    "    cantidad = {\"pais:\" : country , \"anio:\" : year , \"contenido:\" : len(product[\"type\"])}\n",
    "    return cantidad\n",
    "prod_per_country(\"tv show\" , \"france\" , 2020)    "
   ]
  },
  {
   "cell_type": "code",
   "execution_count": 29,
   "metadata": {},
   "outputs": [
    {
     "data": {
      "text/plain": [
       "1243"
      ]
     },
     "execution_count": 29,
     "metadata": {},
     "output_type": "execute_result"
    }
   ],
   "source": [
    "def get_contents(rating: str):\n",
    "    df = pd.read_csv(r\"df.csv\")\n",
    "    conten = df[(df[\"rating\"] == rating)]\n",
    "    cantcont = len(conten[\"rating\"])\n",
    "    return cantcont\n",
    "get_contents(\"18+\")"
   ]
  }
 ],
 "metadata": {
  "kernelspec": {
   "display_name": "Python 3.10.6 64-bit",
   "language": "python",
   "name": "python3"
  },
  "language_info": {
   "codemirror_mode": {
    "name": "ipython",
    "version": 3
   },
   "file_extension": ".py",
   "mimetype": "text/x-python",
   "name": "python",
   "nbconvert_exporter": "python",
   "pygments_lexer": "ipython3",
   "version": "3.10.6"
  },
  "orig_nbformat": 4,
  "vscode": {
   "interpreter": {
    "hash": "9ead07ceca65dd8dffbd2a2bdb08dfdc387d4694473972acdac0b001edaf20ef"
   }
  }
 },
 "nbformat": 4,
 "nbformat_minor": 2
}
